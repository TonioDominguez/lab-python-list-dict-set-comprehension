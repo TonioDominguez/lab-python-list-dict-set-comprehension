{
 "cells": [
  {
   "cell_type": "markdown",
   "id": "25d7736c-ba17-4aff-b6bb-66eba20fbf4e",
   "metadata": {},
   "source": [
    "# Lab | List, Dict and Set Comprehension"
   ]
  },
  {
   "cell_type": "markdown",
   "id": "7dd3cbde-675a-4b81-92c3-f728846dbe06",
   "metadata": {},
   "source": [
    "## Exercise: Managing Customer Orders Optimized with Comprehension"
   ]
  },
  {
   "cell_type": "markdown",
   "id": "5d500160-2fb7-4777-b5e4-09d45ebaf328",
   "metadata": {},
   "source": [
    "In the previous exercise, you developed a program to manage customer orders and inventory. Now, let's take it a step further and incorporate comprehension into your code.\n",
    "\n",
    "Follow the steps below to complete the exercise:\n",
    "\n",
    "1. Review your code from the previous exercise and identify areas where you can apply comprehension to simplify and streamline your code. \n",
    "\n",
    "    - *Hint: Apply it to initialize inventory, updating the inventory and printing the updated inventory.*\n",
    "    \n",
    "    - For example, in initializing the inventory, we could have:\n",
    "    \n",
    "        ```python\n",
    "        def initialize_inventory(products):\n",
    "            inventory = {product: int(input(f\"Enter the quantity of {product}s available: \")) for product in products}\n",
    "            return inventory\n",
    "\n",
    "        ```\n",
    "<br>\n",
    "    \n",
    "    \n",
    "2. Modify the function get_customer_orders so it prompts the user to enter the number of customer orders and gathers the product names using a loop and user input. Use comprehension.\n",
    "\n",
    "3. Add a new function to calculate the total price of the customer order. For each product in customer_orders, prompt the user to enter the price of that product. Use comprehension to calculate the total price. Note: assume that the user can only have 1 unit of each product.\n",
    "\n",
    "4. Modify the update_inventory function to remove the product from the inventory if its quantity becomes zero after fulfilling the customer orders. Use comprehension to filter out the products with a quantity of zero from the inventory.\n",
    "\n",
    "5. Print the total price of the customer order.\n",
    "\n",
    "Your code should produce output similar to the following:\n",
    "\n",
    "```python\n",
    "Enter the quantity of t-shirts available:  5\n",
    "Enter the quantity of mugs available:  4\n",
    "Enter the quantity of hats available:  3\n",
    "Enter the quantity of books available:  2\n",
    "Enter the quantity of keychains available:  1\n",
    "Enter the number of customer orders:  2\n",
    "Enter the name of a product that a customer wants to order:  hat\n",
    "Enter the name of a product that a customer wants to order:  keychain\n",
    "\n",
    "Order Statistics:\n",
    "Total Products Ordered: 2\n",
    "Percentage of Unique Products Ordered: 40.0\n",
    "\n",
    "Updated Inventory:\n",
    "t-shirt: 5\n",
    "mug: 4\n",
    "hat: 2\n",
    "book: 2\n",
    "Enter the price of keychain:  5\n",
    "Enter the price of hat:  10\n",
    "Total Price: 15.0\n",
    "\n",
    "```\n"
   ]
  },
  {
   "cell_type": "markdown",
   "id": "3adb4c1c",
   "metadata": {},
   "source": [
    "# Answers"
   ]
  },
  {
   "cell_type": "markdown",
   "id": "d01b6686",
   "metadata": {},
   "source": [
    "### First we define variables and functions"
   ]
  },
  {
   "cell_type": "code",
   "execution_count": 1,
   "id": "e7ab104b",
   "metadata": {},
   "outputs": [],
   "source": [
    "products = [\"t-shirt\", \"mug\", \"hat\", \"book\", \"keychain\"]\n",
    "inventory = {}\n",
    "customer_order = {}\n",
    "total = 0"
   ]
  },
  {
   "cell_type": "code",
   "execution_count": 2,
   "id": "a1acea0e",
   "metadata": {},
   "outputs": [],
   "source": [
    "def initialize_inventory(products):\n",
    "    inventory = {i:int(input(f\"How many {i} are availables: \")) for i in products}\n",
    "    \n",
    "    return inventory"
   ]
  },
  {
   "cell_type": "code",
   "execution_count": 3,
   "id": "c6c9aff9",
   "metadata": {},
   "outputs": [],
   "source": [
    "def customer_orders():\n",
    "    maximum = int(input(\"How many items do you want to order?: \"))\n",
    "    x = 0\n",
    "    customer_order = {input(\"Write what you want from the list: \").lower():0 for maximum in range(maximum)}\n",
    "    \n",
    "    return customer_order"
   ]
  },
  {
   "cell_type": "code",
   "execution_count": 4,
   "id": "b0fa2b5c",
   "metadata": {},
   "outputs": [],
   "source": [
    "def total_price():\n",
    "\n",
    "    for x,y in customer_order.items():\n",
    "            price = float(input(f\"Set a price for {x}: \"))\n",
    "            customer_order[x] = price\n",
    "    total = sum(price for price in customer_order.values())\n",
    "    \n",
    "    return total"
   ]
  },
  {
   "cell_type": "code",
   "execution_count": 5,
   "id": "ae95846f",
   "metadata": {},
   "outputs": [],
   "source": [
    "def update_inventory(customer_order, inventory):\n",
    "    \n",
    "    for i in customer_order:\n",
    "        if i in inventory:\n",
    "            inventory[i] -= 1\n",
    "    inventory = {x:inventory[x] for x,y in inventory.items() if y > 0}\n",
    "    return inventory"
   ]
  },
  {
   "cell_type": "code",
   "execution_count": 6,
   "id": "6a597578",
   "metadata": {},
   "outputs": [],
   "source": [
    "def print_inventory_and_total_price(inventory,total):\n",
    "    print(\"Updated inventory\")\n",
    "    for x,y in inventory.items():\n",
    "        print(f\"{x}: {y}\")\n",
    "    print(f\"Total price: {total}\")"
   ]
  },
  {
   "cell_type": "markdown",
   "id": "da39b080",
   "metadata": {},
   "source": [
    "### Now, it's time to make it run!"
   ]
  },
  {
   "cell_type": "code",
   "execution_count": 7,
   "id": "a59b55c6",
   "metadata": {},
   "outputs": [
    {
     "name": "stdout",
     "output_type": "stream",
     "text": [
      "How many t-shirt are availables: 1\n",
      "How many mug are availables: 1\n",
      "How many hat are availables: 1\n",
      "How many book are availables: 1\n",
      "How many keychain are availables: 1\n",
      "How many items do you want to order?: 2\n",
      "Write what you want from the list: t-shirt\n",
      "Write what you want from the list: mug\n",
      "Set a price for t-shirt: 29.99\n",
      "Set a price for mug: 15.5\n",
      "Updated inventory\n",
      "hat: 1\n",
      "book: 1\n",
      "keychain: 1\n",
      "Total price: 45.489999999999995\n"
     ]
    }
   ],
   "source": [
    "products = [\"t-shirt\", \"mug\", \"hat\", \"book\", \"keychain\"]\n",
    "inventory = {}\n",
    "customer_order = {}\n",
    "total = 0\n",
    "\n",
    "inventory = initialize_inventory(products)\n",
    "customer_order = customer_orders()\n",
    "total = total_price()\n",
    "inventory = update_inventory(customer_order, inventory)\n",
    "print_inventory_and_total_price(inventory,total)"
   ]
  },
  {
   "cell_type": "code",
   "execution_count": null,
   "id": "cad9f38d",
   "metadata": {},
   "outputs": [],
   "source": []
  }
 ],
 "metadata": {
  "kernelspec": {
   "display_name": "Python 3 (ipykernel)",
   "language": "python",
   "name": "python3"
  },
  "language_info": {
   "codemirror_mode": {
    "name": "ipython",
    "version": 3
   },
   "file_extension": ".py",
   "mimetype": "text/x-python",
   "name": "python",
   "nbconvert_exporter": "python",
   "pygments_lexer": "ipython3",
   "version": "3.11.5"
  }
 },
 "nbformat": 4,
 "nbformat_minor": 5
}
